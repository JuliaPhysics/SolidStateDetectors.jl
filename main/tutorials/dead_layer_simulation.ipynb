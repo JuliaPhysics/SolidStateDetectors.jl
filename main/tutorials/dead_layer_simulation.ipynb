{
 "cells": [
  {
   "cell_type": "markdown",
   "source": [
    "# Inactive layer simulation: True coaxial detector"
   ],
   "metadata": {}
  },
  {
   "cell_type": "markdown",
   "source": [
    "## Set the physical models for the inactive layer (dead layer) simulation with YAML\n",
    "- using drift model for the inactive layer\n",
    "- using constant lifetime trapping model\n",
    "- using mobility-tied diffusion model (by calling the `calculate_mobility` function with the drift model)"
   ],
   "metadata": {}
  },
  {
   "outputs": [],
   "cell_type": "code",
   "source": [
    "using Plots\n",
    "using Unitful\n",
    "using SolidStateDetectors\n",
    "T = Float64"
   ],
   "metadata": {},
   "execution_count": null
  },
  {
   "cell_type": "markdown",
   "source": [
    "the geometry parameters of the model for following display"
   ],
   "metadata": {}
  },
  {
   "outputs": [],
   "cell_type": "code",
   "source": [
    "mm = T(1/1000)\n",
    "det_rin = 1*mm\n",
    "det_z = det_r = 10*mm\n",
    "z_draw = det_z/2\n",
    "pn_r = 8.957282*mm # this one was calculated by searching the zero impurity point (displayed in the following section)\n",
    "\n",
    "sim = Simulation{T}(SSD_examples[:TrueCoaxial])\n",
    "cfn = SSD_examples[:TrueCoaxial]\n",
    "print(open(f -> read(f, String), cfn))\n",
    "plot(sim.detector, xunit = u\"mm\", yunit = u\"mm\", zunit = u\"mm\")"
   ],
   "metadata": {},
   "execution_count": null
  },
  {
   "cell_type": "markdown",
   "source": [
    "## Display the impurity profile defined\n",
    "> Above position of the PN junction boundary `pn_r` is calculate by searching the point on the curve where the density is zero."
   ],
   "metadata": {}
  },
  {
   "outputs": [],
   "cell_type": "code",
   "source": [
    "r_list = (0*mm):(0.01*mm):det_r\n",
    "imp_list = T[]\n",
    "for r in r_list\n",
    "    pt = CylindricalPoint{T}(r, 0, z_draw)\n",
    "    push!(imp_list, SolidStateDetectors.get_impurity_density(sim.detector.semiconductor.impurity_density_model, pt))\n",
    "end\n",
    "imp_list = imp_list ./ 1e6 # in cm^-3\n",
    "plot(r_list/mm, imp_list, xlabel = \"r [mm]\", ylabel = \"Impurity density [cm\\$^{-3}\\$]\", label = \"\",\n",
    "    color = :darkblue, lw = 2, grid = :on, xlims = (0, 10), ylims = (-2e10, 1e11))\n",
    "vline!([pn_r/mm], lw = 2, ls = :dash, color = :darkred, label = \"PN junction boundary\")"
   ],
   "metadata": {},
   "execution_count": null
  },
  {
   "cell_type": "markdown",
   "source": [
    "## Dispaly the mobility curve"
   ],
   "metadata": {}
  },
  {
   "outputs": [],
   "cell_type": "code",
   "source": [
    "using SolidStateDetectors: Electron, Hole\n",
    "cdm = sim.detector.semiconductor.charge_drift_model\n",
    "depth_list = 0:(0.01*mm):(det_r-pn_r)\n",
    "hole_mobility_list = []\n",
    "electron_mobility_list = []\n",
    "for depth in depth_list\n",
    "    r = det_r-depth\n",
    "    pt = CartesianPoint{T}(r, 0, z_draw)\n",
    "    push!(hole_mobility_list, SolidStateDetectors.calculate_mobility(cdm, pt, Hole))\n",
    "    push!(electron_mobility_list, SolidStateDetectors.calculate_mobility(cdm, pt, Electron))\n",
    "end\n",
    "plot(depth_list/mm, hole_mobility_list, label = \"Hole\", lw = 4)\n",
    "plot!(depth_list/mm, electron_mobility_list, label = \"Electron\", lw = 4)\n",
    "plot!(ylabel = \"Mobility [cm\\$^2\\$/V/s]\", xlabel = \"Depth to surface [mm]\",\n",
    "    legend = :topleft, frame = :box, grid = :on, minorgrid = :on, xticks = 0:0.2:1.2, yticks = 0:0.5:4.5, ylims = [0, 4.5])"
   ],
   "metadata": {},
   "execution_count": null
  },
  {
   "cell_type": "markdown",
   "source": [
    "## Calculate the electric field\n",
    "To simulate the inactive layer, we need to calculate the electric field with very fine grid."
   ],
   "metadata": {}
  },
  {
   "outputs": [],
   "cell_type": "code",
   "source": [
    "calculate_electric_potential!(sim, max_n_iterations = 10, grid = Grid(sim), verbose = false, depletion_handling = true)\n",
    "g = sim.electric_potential.grid\n",
    "ax1, ax2, ax3 = g.axes\n",
    "bulk_tick_dis = 0.05*mm\n",
    "dl_tick_dis = 0.01*mm\n",
    "user_additional_ticks_ax1 = sort(vcat(ax1.interval.left:bulk_tick_dis:pn_r, pn_r:dl_tick_dis:ax1.interval.right))\n",
    "user_ax1 = typeof(ax1)(ax1.interval, user_additional_ticks_ax1)\n",
    "user_g = typeof(g)((user_ax1, ax2, ax3))\n",
    "calculate_electric_potential!(sim, refinement_limits = 0.1, use_nthreads = 8, grid = user_g, depletion_handling = true)\n",
    "calculate_electric_field!(sim)\n",
    "calculate_weighting_potential!(sim, 1, use_nthreads = 8, depletion_handling = true)\n",
    "calculate_weighting_potential!(sim, 2, use_nthreads = 8, depletion_handling = true);\n",
    "plot(\n",
    "    begin\n",
    "        imp = plot(sim.imp_scale, φ = 0, xunit = u\"mm\", yunit = u\"mm\", title = \"impurity scale\")\n",
    "        vline!([pn_r/mm], lw = 2, ls = :dash, color = :darkred, label = \"PN junction boundary\", legendfontsize = 6)\n",
    "    end,\n",
    "    begin\n",
    "        plot(sim.point_types, φ = 0, xunit = u\"mm\", yunit = u\"mm\", title = \"point types\")\n",
    "        vline!([pn_r/mm], lw = 2, ls = :dash, color = :darkred, label = \"PN junction boundary\", legendfontsize = 6)\n",
    "    end,\n",
    "    begin\n",
    "        plot(sim.electric_potential, title = \"electric potential\")\n",
    "        vline!([pn_r/mm], lw = 2, ls = :dash, color = :darkred, label = \"PN junction boundary\", legendfontsize = 6)\n",
    "    end,\n",
    "    begin\n",
    "        plot(sim.electric_field, title = \"electric field\", clims = (0, 100*2000))\n",
    "        vline!([pn_r/mm], lw = 2, ls = :dash, color = :darkred, label = \"PN junction boundary\", legendfontsize = 6)\n",
    "    end,\n",
    "    size = (800, 600), layout = (2, 2),\n",
    ")"
   ],
   "metadata": {},
   "execution_count": null
  },
  {
   "cell_type": "markdown",
   "source": [
    "## Pulse shape and CCE simulation"
   ],
   "metadata": {}
  },
  {
   "outputs": [],
   "cell_type": "code",
   "source": [
    "depth_list = (0.1*mm):(0.1*mm):(det_r-pn_r)\n",
    "pulse_list = []\n",
    "totTime = 5 # us\n",
    "totEnergy = 1 # 1 keV --> simulating ~339 carrier pairs\n",
    "max_nsteps = Int(totTime * 1000)\n",
    "N = Int(totEnergy*1000÷2.95)\n",
    "for depth in depth_list\n",
    "    r = det_r-depth\n",
    "    energy_depos = fill(T(2.95/1000), N) * u\"keV\"\n",
    "    starting_positions = repeat([CartesianPoint{T}(r, deg2rad(0), z_draw)], N)\n",
    "    evt = Event(starting_positions, energy_depos);\n",
    "    simulate!(evt, sim, Δt = 1u\"ns\", max_nsteps = max_nsteps, diffusion = true, end_drift_when_no_field = false, self_repulsion = false)\n",
    "    charge = ustrip(evt.waveforms[1].signal)\n",
    "    push!(pulse_list, charge)\n",
    "end\n",
    "pulse_plot = plot()\n",
    "eff_list = []\n",
    "for (i, depth) in enumerate(depth_list)\n",
    "    depth = round(depth/mm, digits = 1)\n",
    "    plot!(pulse_list[i], label = \"Depth: $(depth) mm\", lw = 2, xlabel = \"Time [ns]\", ylabel = \"Amplitude [e]\",\n",
    "        legend = :topright, grid = :on, minorgrid = :on, frame = :box)\n",
    "    push!(eff_list, maximum(pulse_list[i])/N)\n",
    "end\n",
    "cce_plot = plot(depth_list/mm, eff_list, xlabel = \"Depth to surface [mm]\", lw = 2, ylabel = \"Charge collection efficiency\",\n",
    "    frame = :box, grid = :on, minorgrid = :on, xticks = 0:0.2:1.2, yticks = 0:0.1:1, dpi = 500, color = :black, label = \"\")\n",
    "plot(pulse_plot, cce_plot, layout = (1, 2), size = (1000, 400), margin = 5Plots.mm)"
   ],
   "metadata": {},
   "execution_count": null
  },
  {
   "cell_type": "markdown",
   "source": [
    "---\n",
    "\n",
    "*This notebook was generated using [Literate.jl](https://github.com/fredrikekre/Literate.jl).*"
   ],
   "metadata": {}
  }
 ],
 "nbformat_minor": 3,
 "metadata": {
  "language_info": {
   "file_extension": ".jl",
   "mimetype": "application/julia",
   "name": "julia",
   "version": "1.10.10"
  },
  "kernelspec": {
   "name": "julia-1.10",
   "display_name": "Julia 1.10.10",
   "language": "julia"
  }
 },
 "nbformat": 4
}