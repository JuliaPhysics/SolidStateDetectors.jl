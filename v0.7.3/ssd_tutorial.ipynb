{
 "cells": [
  {
   "cell_type": "markdown",
   "source": [
    "# Example 1: Inverted Coax Detector"
   ],
   "metadata": {}
  },
  {
   "outputs": [],
   "cell_type": "code",
   "source": [
    "using Plots\n",
    "using SolidStateDetectors\n",
    "using Unitful\n",
    "\n",
    "T = Float32\n",
    "sim = Simulation{T}(SSD_examples[:InvertedCoax])\n",
    "\n",
    "plot(sim.detector, size = (700, 700))"
   ],
   "metadata": {},
   "execution_count": null
  },
  {
   "cell_type": "markdown",
   "source": [
    "One can also have a look at how the initial conditions look like on the grid (its starts with a very coarse grid):"
   ],
   "metadata": {}
  },
  {
   "outputs": [],
   "cell_type": "code",
   "source": [
    "apply_initial_state!(sim, ElectricPotential) # optional\n",
    "plot(\n",
    "    plot(sim.electric_potential), # initial electric potential (boundary conditions)\n",
    "    plot(sim.point_types), # map of different point types: fixed point / inside or outside detector volume / depleted/undepleted\n",
    "    plot(sim.q_eff_imp), # charge density distribution\n",
    "    plot(sim.ϵ_r), # dielectric distribution\n",
    "    layout = (1, 4), size = (1600, 500)\n",
    ")"
   ],
   "metadata": {},
   "execution_count": null
  },
  {
   "cell_type": "markdown",
   "source": [
    "Next, calculate the electric potential:"
   ],
   "metadata": {}
  },
  {
   "outputs": [],
   "cell_type": "code",
   "source": [
    "calculate_electric_potential!( sim,\n",
    "                               refinement_limits = [0.2, 0.1, 0.05, 0.01])\n",
    "\n",
    "plot(\n",
    "    plot(sim.electric_potential, φ = 20), # initial electric potential (boundary conditions)\n",
    "    plot(sim.point_types), # map of different point types: fixed point / inside or outside detector volume / depleted/undepleted\n",
    "    plot(sim.q_eff_imp), # charge density distribution\n",
    "    plot(sim.ϵ_r), # dielectric distribution\n",
    "    layout = (1, 4), size = (1600, 500)\n",
    ")"
   ],
   "metadata": {},
   "execution_count": null
  },
  {
   "cell_type": "markdown",
   "source": [
    "SolidStateDetectors.jl supports active (i.e. depleted) volume calculation:"
   ],
   "metadata": {}
  },
  {
   "outputs": [],
   "cell_type": "code",
   "source": [
    "is_depleted(sim.point_types)"
   ],
   "metadata": {},
   "execution_count": null
  },
  {
   "outputs": [],
   "cell_type": "code",
   "source": [
    "get_active_volume(sim.point_types) # approximation (sum of the volume of cells marked as depleted)"
   ],
   "metadata": {},
   "execution_count": null
  },
  {
   "cell_type": "markdown",
   "source": [
    "## Partially depleted detectors"
   ],
   "metadata": {}
  },
  {
   "cell_type": "markdown",
   "source": [
    "SolidStateDetectors.jl can also calculate the electric potential of a partially depleted detector:"
   ],
   "metadata": {}
  },
  {
   "outputs": [],
   "cell_type": "code",
   "source": [
    "sim_undep = deepcopy(sim)\n",
    "sim_undep.detector = SolidStateDetector(sim_undep.detector, contact_id = 2, contact_potential = 500); # V  <-- Bias Voltage of Mantle\n",
    "\n",
    "calculate_electric_potential!( sim_undep,\n",
    "                               depletion_handling = true,\n",
    "                               convergence_limit = 1e-6,\n",
    "                               refinement_limits = [0.2, 0.1, 0.05, 0.01],\n",
    "                               verbose = false)\n",
    "\n",
    "\n",
    "plot(\n",
    "    plot(sim_undep.electric_potential),\n",
    "    plot(sim_undep.point_types),\n",
    "    layout = (1, 2), size = (800, 700)\n",
    ")"
   ],
   "metadata": {},
   "execution_count": null
  },
  {
   "outputs": [],
   "cell_type": "code",
   "source": [
    "is_depleted(sim_undep.point_types)"
   ],
   "metadata": {},
   "execution_count": null
  },
  {
   "cell_type": "markdown",
   "source": [
    "Compare both volumes:"
   ],
   "metadata": {}
  },
  {
   "outputs": [],
   "cell_type": "code",
   "source": [
    "println(\"Depleted:   \", get_active_volume(sim.point_types))\n",
    "println(\"Undepleted: \", get_active_volume(sim_undep.point_types));"
   ],
   "metadata": {},
   "execution_count": null
  },
  {
   "cell_type": "markdown",
   "source": [
    "## Electric field calculation"
   ],
   "metadata": {}
  },
  {
   "cell_type": "markdown",
   "source": [
    "Calculate the electric field of the fully depleted detector, given the already calculated electric potential:"
   ],
   "metadata": {}
  },
  {
   "outputs": [],
   "cell_type": "code",
   "source": [
    "calculate_electric_field!(sim, n_points_in_φ = 72)\n",
    "\n",
    "plot(sim.electric_field, full_det = true, φ = 0.0, size = (700, 700))\n",
    "plot_electric_fieldlines!(sim, full_det = true, φ = 0.0)"
   ],
   "metadata": {},
   "execution_count": null
  },
  {
   "cell_type": "markdown",
   "source": [
    "## Simulation of charge drifts"
   ],
   "metadata": {}
  },
  {
   "cell_type": "markdown",
   "source": [
    "Any charge drift model can be used for the calculation of the electric field. If no model is explicitely given, the `ElectricFieldChargeDriftModel` is used. Other configurations are saved in their configuration files and can be found under:"
   ],
   "metadata": {}
  },
  {
   "cell_type": "markdown",
   "source": [
    "`<package_directory>/examples/example_config_files/ADLChargeDriftModel/<config_filename>.yaml.`"
   ],
   "metadata": {}
  },
  {
   "cell_type": "markdown",
   "source": [
    "Set the charge drift model of the simulation:"
   ],
   "metadata": {}
  },
  {
   "outputs": [],
   "cell_type": "code",
   "source": [
    "charge_drift_model = ADLChargeDriftModel()\n",
    "sim.detector = SolidStateDetector(sim.detector, charge_drift_model)"
   ],
   "metadata": {},
   "execution_count": null
  },
  {
   "cell_type": "markdown",
   "source": [
    "Now, let's create an \"random\" multi-site event:"
   ],
   "metadata": {}
  },
  {
   "outputs": [],
   "cell_type": "code",
   "source": [
    "starting_positions = [ CylindricalPoint{T}( 0.020, deg2rad(10), 0.015 ),\n",
    "                       CylindricalPoint{T}( 0.015, deg2rad(20), 0.045 ),\n",
    "                       CylindricalPoint{T}( 0.022, deg2rad(35), 0.025 ) ]\n",
    "energy_depos = T[1460, 609, 1000] * u\"keV\" # are needed later in the signal generation\n",
    "\n",
    "evt = Event(starting_positions, energy_depos);\n",
    "\n",
    "time_step = 5u\"ns\"\n",
    "drift_charges!(evt, sim, Δt = time_step)\n",
    "\n",
    "plot(sim.detector, size = (700, 700))\n",
    "plot!(evt.drift_paths)"
   ],
   "metadata": {},
   "execution_count": null
  },
  {
   "cell_type": "markdown",
   "source": [
    "## Weighting potential calculation"
   ],
   "metadata": {}
  },
  {
   "cell_type": "markdown",
   "source": [
    "We need weighting potentials to simulate the detector charge signal induced by drifting charges. We'll calculate the weighting potential for the point contact and the outer shell of the detector:"
   ],
   "metadata": {}
  },
  {
   "outputs": [],
   "cell_type": "code",
   "source": [
    "for contact in sim.detector.contacts\n",
    "    calculate_weighting_potential!(sim, contact.id, refinement_limits = [0.2, 0.1, 0.05, 0.01], n_points_in_φ = 2, verbose = false)\n",
    "end\n",
    "\n",
    "plot(\n",
    "    plot(sim.weighting_potentials[1]),\n",
    "    plot(sim.weighting_potentials[2]),\n",
    "    size = (900, 700)\n",
    ")"
   ],
   "metadata": {},
   "execution_count": null
  },
  {
   "cell_type": "markdown",
   "source": [
    "## Detector Capacitance Matrix"
   ],
   "metadata": {}
  },
  {
   "cell_type": "markdown",
   "source": [
    "After the weighting potentials are calculated, the detector capacitance matrix can be calculated in the **Maxwell Capacitance Matrix Notation**:"
   ],
   "metadata": {}
  },
  {
   "outputs": [],
   "cell_type": "code",
   "source": [
    "calculate_capacitance_matrix(sim)"
   ],
   "metadata": {},
   "execution_count": null
  },
  {
   "cell_type": "markdown",
   "source": [
    "See Capacitances for more information."
   ],
   "metadata": {}
  },
  {
   "cell_type": "markdown",
   "source": [
    "## Detector waveform generation"
   ],
   "metadata": {}
  },
  {
   "cell_type": "markdown",
   "source": [
    "### Single-event simulation"
   ],
   "metadata": {}
  },
  {
   "cell_type": "markdown",
   "source": [
    "Given an interaction at an arbitrary point in the detector, we can now simulate the charge drift and the resulting detector charge signals (e.g. at the point contact):"
   ],
   "metadata": {}
  },
  {
   "outputs": [],
   "cell_type": "code",
   "source": [
    "simulate!(evt, sim) # drift_charges + signal generation of all channels\n",
    "\n",
    "p_pc_signal = plot( evt.waveforms[1], lw = 1.5, xlims = (0, 1100), xlabel = \"Time\", unitformat = :slash,\n",
    "                    legend = false, tickfontsize = 12, ylabel = \"Charge\", guidefontsize = 14)"
   ],
   "metadata": {},
   "execution_count": null
  },
  {
   "cell_type": "markdown",
   "source": [
    "SolidStateDetectors.jl also allows to separate the waveform into the two contributions from electrons and holes"
   ],
   "metadata": {}
  },
  {
   "outputs": [],
   "cell_type": "code",
   "source": [
    "contact_id = 1\n",
    "plot_electron_and_hole_contribution(evt, sim, contact_id, xlims = (0, 1100), xlabel = \"Time\",\n",
    "                    legend = :topleft, tickfontsize = 12, ylabel = \"Charge\", guidefontsize = 14)"
   ],
   "metadata": {},
   "execution_count": null
  },
  {
   "cell_type": "markdown",
   "source": [
    "---\n",
    "\n",
    "*This notebook was generated using [Literate.jl](https://github.com/fredrikekre/Literate.jl).*"
   ],
   "metadata": {}
  }
 ],
 "nbformat_minor": 3,
 "metadata": {
  "language_info": {
   "file_extension": ".jl",
   "mimetype": "application/julia",
   "name": "julia",
   "version": "1.6.4"
  },
  "kernelspec": {
   "name": "julia-1.6",
   "display_name": "Julia 1.6.4",
   "language": "julia"
  }
 },
 "nbformat": 4
}
