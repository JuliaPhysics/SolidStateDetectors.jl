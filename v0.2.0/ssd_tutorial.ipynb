{
 "cells": [
  {
   "outputs": [],
   "cell_type": "markdown",
   "source": [
    "# Example 1: Inverted Coax Detector"
   ],
   "metadata": {}
  },
  {
   "outputs": [],
   "cell_type": "markdown",
   "source": [
    "ToDo... explanation"
   ],
   "metadata": {}
  },
  {
   "outputs": [],
   "cell_type": "code",
   "source": [
    "using Plots; pyplot();\n",
    "using SolidStateDetectors\n",
    "\n",
    "T = Float32\n",
    "detector = SolidStateDetector{T}(SSD_examples[:InvertedCoax])\n",
    "\n",
    "simulation = Simulation(detector)\n",
    "\n",
    "simulate!(simulation, max_refinements = 3)\n",
    "\n",
    "p_ep = plot(simulation.electric_potential)"
   ],
   "metadata": {},
   "execution_count": null
  },
  {
   "outputs": [],
   "cell_type": "markdown",
   "source": [
    "# Example 2: ToDo..."
   ],
   "metadata": {}
  },
  {
   "outputs": [],
   "cell_type": "markdown",
   "source": [
    "ToDo... #-\n",
    "*This notebook was generated using [Literate.jl](https://github.com/fredrikekre/Literate.jl).*"
   ],
   "metadata": {}
  }
 ],
 "nbformat_minor": 3,
 "metadata": {
  "language_info": {
   "file_extension": ".jl",
   "mimetype": "application/julia",
   "name": "julia",
   "version": "1.0.4"
  },
  "kernelspec": {
   "name": "julia-1.0",
   "display_name": "Julia 1.0.4",
   "language": "julia"
  }
 },
 "nbformat": 4
}
