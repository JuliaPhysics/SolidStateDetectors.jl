{
 "cells": [
  {
   "cell_type": "markdown",
   "source": [
    "# Advanced Example: Custom Impurity Profile"
   ],
   "metadata": {}
  },
  {
   "cell_type": "markdown",
   "source": [
    "A very important input to the simulation is the impurity profile of the semiconductor.\n",
    "It influences the electric potential and, thus, the electric field, capacitances,\n",
    "drift paths and also the induced waveforms."
   ],
   "metadata": {}
  },
  {
   "cell_type": "markdown",
   "source": [
    "Arbitrary impurity density profiles can be defined and assigned to the semiconductor of the detector.\n",
    "Also have a look into the manual: Impurity Densities and Custom Impurity Density."
   ],
   "metadata": {}
  },
  {
   "cell_type": "markdown",
   "source": [
    "As an example, we define the impurity profile of a simple [p-n junction](https://en.wikipedia.org/wiki/P%E2%80%93n_junction)\n",
    "and calculate the electric potential and depleted region and reproduce the\n",
    "typical [plot](https://en.wikipedia.org/wiki/P%E2%80%93n_junction#/media/File:Pn-junction-equilibrium-graphs.png)\n",
    "shown in various books explaining p-n junctions."
   ],
   "metadata": {}
  },
  {
   "cell_type": "markdown",
   "source": [
    "For this, we use one of the example detectors: the infinite parallel plate capacitor in cartesian coordinates.\n",
    "The plates span over `y` and `z`. It is made infinite by defining the world smaller than the contacts\n",
    "and using reflecting boundaries in `y` and `z`.\n",
    "Let's get started by loading the packages and the detector and have a look at its geometry:"
   ],
   "metadata": {}
  },
  {
   "outputs": [],
   "cell_type": "code",
   "source": [
    "using Plots\n",
    "using SolidStateDetectors\n",
    "using Unitful\n",
    "\n",
    "sim = Simulation{Float32}(SSD_examples[:InfiniteParallelPlateCapacitor])\n",
    "plot( sim.detector.semiconductor, fillalpha = 0.4)\n",
    "plot!(sim.detector, xlims = (-0.006, 0.006), aspect_ratio = :none)"
   ],
   "metadata": {},
   "execution_count": null
  },
  {
   "cell_type": "markdown",
   "source": [
    "## Define the Impurity Density"
   ],
   "metadata": {}
  },
  {
   "cell_type": "markdown",
   "source": [
    "Now, we define the model for the impurity density of the p-n junction.\n",
    "In order to do so, we need to define two things."
   ],
   "metadata": {}
  },
  {
   "cell_type": "markdown",
   "source": [
    "1\\. We have to define a `struct` which has to be\n",
    "   subtype of `SolidStateDetectors.AbstractImpurityDensity{T}`.\n",
    "   We define the model with two parameters in order to be able to vary the density level\n",
    "   in the p-type and n-type regions independently.\n",
    "   More parameters could be added, e.g., the position of the p-n junction."
   ],
   "metadata": {}
  },
  {
   "outputs": [],
   "cell_type": "code",
   "source": [
    "struct PNJunctionImpurityDensity{T} <: SolidStateDetectors.AbstractImpurityDensity{T}\n",
    "    p_type_density::T\n",
    "    n_type_density::T\n",
    "end"
   ],
   "metadata": {},
   "execution_count": null
  },
  {
   "cell_type": "markdown",
   "source": [
    "2\\. We have to define a method for `SolidStateDetectors.get_impurity_density` for our\n",
    "   just defined impurity density.\n",
    "   It has to take two arguments. An instance of our model and a point.\n",
    "   The function returns the impurity density at the respective position.\n",
    "   The returned value has to be in units of 1/m$^{3}$."
   ],
   "metadata": {}
  },
  {
   "cell_type": "markdown",
   "source": [
    "!!! note \"Sign of the impurity density\"\n",
    "    The sign of the impurity density determines whether the semiconductor is p-type or n-type.\n",
    "\n",
    "    p-type region <-> negative sign: Holes are the majority carriers and are free to move and diffuse into the n-type region.\n",
    "        Electrons are fixed in the lattice. Thus, a negative fixed space charge density is left behind in the depleted p-type region.\n",
    "\n",
    "    n-type region <-> positive sign: Electrons are the majority carriers and are free to move and diffuse into the p-type region.\n",
    "        Holes are fixed in the lattice. Thus, a positive fixed space charge density is left behind in the depleted n-type region."
   ],
   "metadata": {}
  },
  {
   "outputs": [],
   "cell_type": "code",
   "source": [
    "function SolidStateDetectors.get_impurity_density(\n",
    "    cdm::PNJunctionImpurityDensity{T},\n",
    "    pt::SolidStateDetectors.AbstractCoordinatePoint{T}\n",
    ")::T where {T}\n",
    "    cpt = CartesianPoint(pt)\n",
    "    x = cpt[1] # In this example, we only need the `x` coordinate of the point.\n",
    "    if x > 0\n",
    "        -cdm.p_type_density # p-type region -> electrons are fixed -> negative charge\n",
    "    else\n",
    "        cdm.n_type_density  # n-type region -> holes are fixed -> positive charge\n",
    "    end\n",
    "end"
   ],
   "metadata": {},
   "execution_count": null
  },
  {
   "cell_type": "markdown",
   "source": [
    "## Assign the Density and Calculate the Fields"
   ],
   "metadata": {}
  },
  {
   "cell_type": "markdown",
   "source": [
    "Now, we create an instance of our model with reasonable parameters\n",
    "(for the geometry and bias voltage of the example detector)\n",
    "and assign it to the detector."
   ],
   "metadata": {}
  },
  {
   "outputs": [],
   "cell_type": "code",
   "source": [
    "pn_junction_impurity_density = PNJunctionImpurityDensity{Float32}(3e16, 1.5e16)\n",
    "sim.detector = SolidStateDetector(sim.detector, pn_junction_impurity_density);"
   ],
   "metadata": {},
   "execution_count": null
  },
  {
   "cell_type": "markdown",
   "source": [
    "We are now ready to calculate the electric potential.\n",
    "Depletion handling has to be turned on, via the keyword `depletion_handling = true`,\n",
    "in order to detect the regions where the detector is depleted.\n",
    "The other settings for `calculate_electric_potential!` are very specific for this effectively 1D problem\n",
    "to be calculated in 3D.\n",
    "Afterwards, we also calculate the electric field and plot the\n",
    "electric potential, impurity scale map and the point type map.\n",
    "The two latter ones show us where the detector is depleted (`imp_scale == 1`)."
   ],
   "metadata": {}
  },
  {
   "outputs": [],
   "cell_type": "code",
   "source": [
    "calculate_electric_potential!(\n",
    "    sim,\n",
    "    convergence_limit = 1e-6,\n",
    "    max_tick_distance = (0.002, 1, 1) .* u\"cm\",\n",
    "    min_tick_distance = (1e-7, 1, 1) .* u\"m\",\n",
    "    refinement_limits = [0.005, 0.001],\n",
    "    depletion_handling = true\n",
    ")\n",
    "calculate_electric_field!(sim)\n",
    "\n",
    "plot(\n",
    "    plot(sim.electric_potential, y = 0),\n",
    "    plot(sim.imp_scale, y = 0),\n",
    "    plot(sim.point_types, y = 0),\n",
    "    layout = (3, 1),\n",
    "    aspect_ratio = :none,\n",
    "    size = (800, 800)\n",
    ")"
   ],
   "metadata": {},
   "execution_count": null
  },
  {
   "cell_type": "markdown",
   "source": [
    "## 1D Plots of the P-N Junction"
   ],
   "metadata": {}
  },
  {
   "cell_type": "markdown",
   "source": [
    "As this is in principle a 1D simulation, it is most reasonable to plot the\n",
    "charge density from the impurities, the electric potential and\n",
    "the electric field strength (here equals the `x` component of the electric field)\n",
    "only over `x`."
   ],
   "metadata": {}
  },
  {
   "outputs": [],
   "cell_type": "code",
   "source": [
    "xs = uconvert.(u\"mm\", sim.electric_potential.grid[1] * u\"m\");\n",
    "plot(\n",
    "    begin\n",
    "        ρ_x = map(x -> SolidStateDetectors.get_impurity_density(\n",
    "            sim.detector.semiconductor.impurity_density_model, CartesianPoint{Float32}(x, 0, 0)),\n",
    "            sim.electric_potential.grid[1]\n",
    "        )\n",
    "        plot(xs, ρ_x .* sim.imp_scale[:, 1, 1], lw = 4, label =\"\", xguide = \"x\", unitformat = :square, yguide = \"\\$\\\\rho\\$ [e/m\\$^3\\$]\")\n",
    "        vline!([sim.detector.contacts[1].geometry.origin.x] * 1000, lw = 4, color = \"green\", label = \"N+ Contact\")\n",
    "        vline!([sim.detector.contacts[2].geometry.origin.x] * 1000, lw = 4, color = \"red\", label = \"P+ Contact\")\n",
    "        vline!([0], lw = 4, color = \"black\", label = \"p-n junction\")\n",
    "    end,\n",
    "    begin\n",
    "        plot(xs, sim.electric_potential.data[:,1,1], lw = 4, label =\"\", xguide = \"x\", unitformat = :square, yguide = \"\\$\\\\Phi\\$ [V]\")\n",
    "        vline!([sim.detector.contacts[1].geometry.origin.x] * 1000, lw = 4, color = \"green\", label = \"N+ Contact\")\n",
    "        vline!([sim.detector.contacts[2].geometry.origin.x] * 1000, lw = 4, color = \"red\", label = \"P+ Contact\")\n",
    "        vline!([0], lw = 4, color = \"black\", label = \"p-n junction\")\n",
    "    end,\n",
    "    begin\n",
    "        plot(xs, map(E -> E[1]/1000, sim.electric_field.data[:,1,1]), lw = 4, label =\"\", xguide = \"x\", unitformat = :square, yguide = \"\\$\\\\mathcal{E}_x\\$ [V/mm]\")\n",
    "        vline!([sim.detector.contacts[1].geometry.origin.x] * 1000, lw = 4, color = \"green\", label = \"N+ Contact\")\n",
    "        vline!([sim.detector.contacts[2].geometry.origin.x] * 1000, lw = 4, color = \"red\", label = \"P+ Contact\")\n",
    "        vline!([0], lw = 4, color = \"black\", label = \"p-n junction\")\n",
    "    end,\n",
    "    layout = (3, 1),\n",
    "    xlims = (-5.1, 5.1),\n",
    "    size = (800, 800),\n",
    "    lw = 2,\n",
    ")"
   ],
   "metadata": {},
   "execution_count": null
  },
  {
   "cell_type": "markdown",
   "source": [
    "---\n",
    "\n",
    "*This notebook was generated using [Literate.jl](https://github.com/fredrikekre/Literate.jl).*"
   ],
   "metadata": {}
  }
 ],
 "nbformat_minor": 3,
 "metadata": {
  "language_info": {
   "file_extension": ".jl",
   "mimetype": "application/julia",
   "name": "julia",
   "version": "1.9.3"
  },
  "kernelspec": {
   "name": "julia-1.9",
   "display_name": "Julia 1.9.3",
   "language": "julia"
  }
 },
 "nbformat": 4
}
