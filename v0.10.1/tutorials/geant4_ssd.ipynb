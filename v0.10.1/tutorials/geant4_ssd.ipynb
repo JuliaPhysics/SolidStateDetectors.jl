{
 "cells": [
  {
   "cell_type": "markdown",
   "source": [
    "# Geant4 Support"
   ],
   "metadata": {}
  },
  {
   "cell_type": "markdown",
   "source": [
    "SolidStateDetectors.jl provides an extension for Geant4.jl.\n",
    "This extension allows to simulate realistic event distributions resulting from particles emitted by a given source, which can be used as input to the waveform simulation.\n",
    "\n",
    "To use the extension, both `SolidStateDetectors` and `Geant4` have to be loaded."
   ],
   "metadata": {}
  },
  {
   "outputs": [],
   "cell_type": "code",
   "source": [
    "using SolidStateDetectors\n",
    "using Geant4"
   ],
   "metadata": {},
   "execution_count": null
  },
  {
   "cell_type": "markdown",
   "source": [
    "In order to run `Geant4` simulations, a `Geant4.G4JLApplication` needs to be defined based on the detector geometry and the particle source.\n",
    "The extension features a function that creates a `Geant4.G4JLApplcation` from an SSD `Simulation` object and a particle source."
   ],
   "metadata": {}
  },
  {
   "outputs": [],
   "cell_type": "code",
   "source": [
    "using Plots\n",
    "using Unitful"
   ],
   "metadata": {},
   "execution_count": null
  },
  {
   "cell_type": "markdown",
   "source": [
    "Two types of particle source are pre-defined in `SolidStateDetectors`:\n",
    "\n",
    "#### 1. `MonoenergeticSource`\n",
    "\n",
    "This source emits particles of the same type and same energy."
   ],
   "metadata": {}
  },
  {
   "outputs": [],
   "cell_type": "code",
   "source": [
    "source_1 = MonoenergeticSource(\n",
    "    \"gamma\",                              # Type of particle beam\n",
    "    2.615u\"MeV\",                          # Energy of particle\n",
    "    CartesianPoint(0.065, 0., 0.05),      # Location of the source\n",
    "    CartesianVector(-1,0,0),              # Direction of the source\n",
    "    10u\"°\"                                # Opening angle of the source emission\n",
    ")"
   ],
   "metadata": {},
   "execution_count": null
  },
  {
   "cell_type": "markdown",
   "source": [
    "- The particle type is given as a string (e.g. `\"e-\"` or `\"gamma\"`) and directly passed to `Geant4`. See the `Geant4` documentation on how to name the desired particle type.\n",
    "- The energy of the emitted particles is passed as a number with unit.\n",
    "- The `position` of the particle source relative to the origin is defined by a `CartesianPoint` (in units of `m`).\n",
    "- The source can emit particles in a given `direction` if a `CartesianVector` is provided.\n",
    "  If not, the emission is isotropic.\n",
    "- If an `opening_angle` is provided, the source emits via a directed cone with the defined opening angle."
   ],
   "metadata": {}
  },
  {
   "cell_type": "markdown",
   "source": [
    "#### 2. `IsotopeSource`\n",
    "\n",
    "This source emits particles based on the radioactive decay chain of a given isotope."
   ],
   "metadata": {}
  },
  {
   "outputs": [],
   "cell_type": "code",
   "source": [
    "source_2 = IsotopeSource(\n",
    "    82,                                # Number of protons\n",
    "    212,                               # Total number of nucleons\n",
    "    0.0,                               # Excitation energy\n",
    "    0.0,                               # Ion charge\n",
    "    CartesianPoint(0.06, 0, 0.05),     # Location of the source\n",
    "    CartesianVector(-1,0,0),           # Direction of the source\n",
    "    10u\"°\"                             # Opening angle of the source emission\n",
    ")"
   ],
   "metadata": {},
   "execution_count": null
  },
  {
   "cell_type": "markdown",
   "source": [
    "The source is defined using\n",
    "- The number of protons `Z` and the number of nucleons `A` in the isotope. <br/>\n",
    "- The excitation energy\n",
    "- The charge of the isotope\n",
    "- The position, direction and opening angle from the source can be defined in the same way as for a `MonoenergeticSource`\n",
    "\n",
    "The particle source can now be plotted together with the detector, as well as the direction in which particles are emitted."
   ],
   "metadata": {}
  },
  {
   "outputs": [],
   "cell_type": "code",
   "source": [
    "T = Float32\n",
    "sim = Simulation{T}(SSD_examples[:InvertedCoaxInCryostat])\n",
    "plot(sim.detector, size = (500,500))\n",
    "plot!(source_1)"
   ],
   "metadata": {},
   "execution_count": null
  },
  {
   "cell_type": "markdown",
   "source": [
    "A `Geant4.G4JLApplication` is built from a SSD `Simulation` `sim` and one of the previously defined particle sources, e.g. `source_1`.\n",
    "\n",
    "Internally, a GDML file is created that is subsequently read in by `Geant4.jl`. <br/>\n",
    "If needed, the resulting GDML file can also be saved by using the `Geant4.G4JLDetector(sim, \"output_filename.gdml\")` command."
   ],
   "metadata": {}
  },
  {
   "outputs": [],
   "cell_type": "code",
   "source": [
    "app = G4JLApplication(sim, source_1, verbose = false);"
   ],
   "metadata": {},
   "execution_count": null
  },
  {
   "cell_type": "markdown",
   "source": [
    "The method `run_geant4_simulation` is used to generate a given number of events."
   ],
   "metadata": {}
  },
  {
   "outputs": [],
   "cell_type": "code",
   "source": [
    "N_events = 50000\n",
    "events = run_geant4_simulation(app, N_events)"
   ],
   "metadata": {},
   "execution_count": null
  },
  {
   "cell_type": "markdown",
   "source": [
    "Each entry of the table corresponds to one event and consists of five fields:\n",
    "- `evtno`: Event number\n",
    "- `detno`: Index of the detector where the energy was deposited\n",
    "- `thit`: Time of the interaction\n",
    "- `edep`: Amount of energy that was deposited in the detector\n",
    "- `pos`: Position where the interaction happened"
   ],
   "metadata": {}
  },
  {
   "cell_type": "markdown",
   "source": [
    "By extracting the position of each energy deposition from `events`, the spatial distribution of the events inside the detector can be plotted:"
   ],
   "metadata": {}
  },
  {
   "outputs": [],
   "cell_type": "code",
   "source": [
    "plot(sim.detector, show_passives = false, size = (500,500), fmt = :png)\n",
    "plot!(source_1)\n",
    "plot!(CartesianPoint.(broadcast(p -> ustrip.(u\"m\", p), events[1:1000].pos.data)), ms = 0.5, msw = 0, color=:black, label = \"\")"
   ],
   "metadata": {},
   "execution_count": null
  },
  {
   "cell_type": "markdown",
   "source": [
    "The output of `run_geant4_simulation` can be stored using the `LegendHDF5IO` package:"
   ],
   "metadata": {}
  },
  {
   "cell_type": "markdown",
   "source": [
    "```\n",
    "using LegendHDF5IO\n",
    "\n",
    "lh5open(\"simulation_output.lh5\", \"w\") do h\n",
    "     LegendHDF5IO.writedata(h.data_store, \"SimulationData\", events)\n",
    "end\n",
    "\n",
    "events_in = lh5open(\"simulation_output.lh5\", \"r\") do h\n",
    "    LegendHDF5IO.readdata(h.data_store, \"SimulationData\")\n",
    "end\n",
    "```"
   ],
   "metadata": {}
  },
  {
   "cell_type": "markdown",
   "source": [
    "In order to visualize the energy spectrum of the events in a histogram, you can use the following code:"
   ],
   "metadata": {}
  },
  {
   "outputs": [],
   "cell_type": "code",
   "source": [
    "using StatsBase\n",
    "\n",
    "h = fit(Histogram, ustrip.(u\"keV\", sum.(events.edep)), Weights(fill(10,length(events.edep))), 0:10:3000)\n",
    "\n",
    "plot(h, title = \"Energy spectrum\", bins = 500, yscale = :log10, st = :step, label = \"\")\n",
    "xlims!(0,3000, xlabel = \"E in keV\", ylabel = \"counts\")"
   ],
   "metadata": {},
   "execution_count": null
  },
  {
   "cell_type": "markdown",
   "source": [
    "Now that the energy depositions in the detector are simulated, they can be passed to SSD to calculate the corresponding waveforms.\n",
    "This requires to calculate the electric potential, the electric field and the weighting potential of the detector first."
   ],
   "metadata": {}
  },
  {
   "outputs": [],
   "cell_type": "code",
   "source": [
    "sim.detector = SolidStateDetector(sim.detector, ADLChargeDriftModel(T=T))\n",
    "calculate_electric_potential!(sim, refinement_limits = [0.4,0.2,0.1,0.06], verbose = false)\n",
    "calculate_electric_field!(sim, n_points_in_φ = 10)\n",
    "calculate_weighting_potential!(sim, 1, refinement_limits = [0.4,0.2,0.1,0.06], verbose = false)"
   ],
   "metadata": {},
   "execution_count": null
  },
  {
   "cell_type": "markdown",
   "source": [
    "The waveforms can be simulated using `simulate_waveforms`:"
   ],
   "metadata": {}
  },
  {
   "outputs": [],
   "cell_type": "code",
   "source": [
    "wf = simulate_waveforms(events[1:100], sim, Δt = 1u\"ns\", max_nsteps = 2000)\n",
    "plot(wf[1:20].waveform, label = \"\")"
   ],
   "metadata": {},
   "execution_count": null
  },
  {
   "cell_type": "markdown",
   "source": [
    "We can add some baseline and tail to the pulses to match their lengths (in this case to 2000ns):"
   ],
   "metadata": {}
  },
  {
   "outputs": [],
   "cell_type": "code",
   "source": [
    "w = add_baseline_and_extend_tail.(wf.waveform, 100, 2000)\n",
    "plot(w[1:20], label = \"\")"
   ],
   "metadata": {},
   "execution_count": null
  },
  {
   "cell_type": "markdown",
   "source": [
    "---\n",
    "\n",
    "*This notebook was generated using [Literate.jl](https://github.com/fredrikekre/Literate.jl).*"
   ],
   "metadata": {}
  }
 ],
 "nbformat_minor": 3,
 "metadata": {
  "language_info": {
   "file_extension": ".jl",
   "mimetype": "application/julia",
   "name": "julia",
   "version": "1.10.5"
  },
  "kernelspec": {
   "name": "julia-1.10",
   "display_name": "Julia 1.10.5",
   "language": "julia"
  }
 },
 "nbformat": 4
}
