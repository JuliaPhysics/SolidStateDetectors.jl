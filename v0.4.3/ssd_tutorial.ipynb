{
 "cells": [
  {
   "cell_type": "markdown",
   "source": [
    "# Example 1: Inverted Coax Detector"
   ],
   "metadata": {}
  },
  {
   "outputs": [],
   "cell_type": "code",
   "source": [
    "using Plots; pyplot(fmt = :png);\n",
    "using SolidStateDetectors\n",
    "using Unitful\n",
    "\n",
    "T = Float32\n",
    "simulation = Simulation{T}(SSD_examples[:InvertedCoax])\n",
    "\n",
    "plot(simulation.detector, size = (700, 700))"
   ],
   "metadata": {},
   "execution_count": null
  },
  {
   "cell_type": "markdown",
   "source": [
    "One can also have a look at how the initial conditions look like on the grid (its starts with a very coarse grid):"
   ],
   "metadata": {}
  },
  {
   "outputs": [],
   "cell_type": "code",
   "source": [
    "apply_initial_state!(simulation, ElectricPotential) # optional\n",
    "plot(\n",
    "    plot(simulation.electric_potential), # initial electric potential (boundary conditions)\n",
    "    plot(simulation.point_types), # map of different point types: fixed point / inside or outside detector volume / depleted/undepleted\n",
    "    plot(simulation.ρ), # charge density distribution\n",
    "    plot(simulation.ϵ), # dielectric distribution\n",
    "    layout = (1, 4), size = (1400, 700)\n",
    ")"
   ],
   "metadata": {},
   "execution_count": null
  },
  {
   "cell_type": "markdown",
   "source": [
    "Next, calculate the electric potential:"
   ],
   "metadata": {}
  },
  {
   "outputs": [],
   "cell_type": "code",
   "source": [
    "calculate_electric_potential!( simulation,\n",
    "                               max_refinements = 3)\n",
    "\n",
    "plot(\n",
    "    plot(simulation.electric_potential, φ = 20), # initial electric potential (boundary conditions)\n",
    "    plot(simulation.point_types), # map of different point types: fixed point / inside or outside detector volume / depleted/undepleted\n",
    "    plot(simulation.ρ), # charge density distribution\n",
    "    plot(simulation.ϵ), # dielectric distribution\n",
    "    layout = (1, 4), size = (1400, 700)\n",
    ")"
   ],
   "metadata": {},
   "execution_count": null
  },
  {
   "cell_type": "markdown",
   "source": [
    "SolidStateDetectors.jl supports active (i.e. depleted) volume calculation:"
   ],
   "metadata": {}
  },
  {
   "outputs": [],
   "cell_type": "code",
   "source": [
    "get_active_volume(simulation.point_types) # approximation (sum of the volume of cells marked as depleted)"
   ],
   "metadata": {},
   "execution_count": null
  },
  {
   "cell_type": "markdown",
   "source": [
    "## Partially depleted detectors"
   ],
   "metadata": {}
  },
  {
   "cell_type": "markdown",
   "source": [
    "SolidStateDetectors.jl can also calculate the electric potential of a partially depleted detector:"
   ],
   "metadata": {}
  },
  {
   "outputs": [],
   "cell_type": "code",
   "source": [
    "detector_undep = deepcopy(simulation.detector)\n",
    "detector_undep.contacts[end].potential = 500; # V  <-- Bias Voltage of Mantle\n",
    "\n",
    "simulation_undep = Simulation(detector_undep);\n",
    "\n",
    "calculate_electric_potential!( simulation_undep,\n",
    "                               depletion_handling = true,\n",
    "                               convergence_limit=1e-6,\n",
    "                               max_refinements = 3,\n",
    "                               verbose = false)\n",
    "\n",
    "plot(\n",
    "    plot(simulation_undep.electric_potential),\n",
    "    plot(simulation_undep.point_types),\n",
    "    layout = (1, 2), size = (800, 700)\n",
    ")"
   ],
   "metadata": {},
   "execution_count": null
  },
  {
   "cell_type": "markdown",
   "source": [
    "Compare both volumes:"
   ],
   "metadata": {}
  },
  {
   "outputs": [],
   "cell_type": "code",
   "source": [
    "println(\"Depleted:   \", get_active_volume(simulation.point_types))\n",
    "println(\"Undepleted: \", get_active_volume(simulation_undep.point_types));"
   ],
   "metadata": {},
   "execution_count": null
  },
  {
   "cell_type": "markdown",
   "source": [
    "## Electric field calculation"
   ],
   "metadata": {}
  },
  {
   "cell_type": "markdown",
   "source": [
    "Calculate the electric field of the fully depleted detector, given the already calculated electric potential:"
   ],
   "metadata": {}
  },
  {
   "outputs": [],
   "cell_type": "code",
   "source": [
    "calculate_electric_field!(simulation, n_points_in_φ = 72)"
   ],
   "metadata": {},
   "execution_count": null
  },
  {
   "cell_type": "markdown",
   "source": [
    "plot_electric_field(simulation, size = (350, 500))"
   ],
   "metadata": {}
  },
  {
   "cell_type": "markdown",
   "source": [
    "## Drift field calculation"
   ],
   "metadata": {}
  },
  {
   "cell_type": "markdown",
   "source": [
    "Given the electric field and a charge drift model, calculate drift fields for electrons and holes. Precalculating the drift fields saves time during charge drift simulation:"
   ],
   "metadata": {}
  },
  {
   "cell_type": "markdown",
   "source": [
    "Any drift field model can be used for the calculation of the electric field. If no model is explicitely given, the Bruyneel model from the Agata Data Library (ADL) is used. Other configurations are saved in their JSON configuration files and can be found under:"
   ],
   "metadata": {}
  },
  {
   "cell_type": "markdown",
   "source": [
    "`<package_directory>/src/ChargeDriftModels/ADL/<config_filename>.json.`"
   ],
   "metadata": {}
  },
  {
   "cell_type": "markdown",
   "source": [
    "Set the charge drift model of the simulation:"
   ],
   "metadata": {}
  },
  {
   "outputs": [],
   "cell_type": "code",
   "source": [
    "charge_drift_model = ADLChargeDriftModel()\n",
    "set_charge_drift_model!(simulation, charge_drift_model)"
   ],
   "metadata": {},
   "execution_count": null
  },
  {
   "cell_type": "markdown",
   "source": [
    "And apply the charge drift model to the electric field:"
   ],
   "metadata": {}
  },
  {
   "outputs": [],
   "cell_type": "code",
   "source": [
    "calculate_drift_fields!(simulation)"
   ],
   "metadata": {},
   "execution_count": null
  },
  {
   "cell_type": "markdown",
   "source": [
    "Now, let's create an \"random\" (multiside) event:"
   ],
   "metadata": {}
  },
  {
   "outputs": [],
   "cell_type": "code",
   "source": [
    "starting_positions = [ CylindricalPoint{T}( 0.020, deg2rad(10), 0.015 ),\n",
    "                       CylindricalPoint{T}( 0.015, deg2rad(20), 0.045 ),\n",
    "                       CylindricalPoint{T}( 0.025, deg2rad(30), 0.025 ) ]\n",
    "energy_depos = T[1460, 609, 1000] * u\"keV\" # are needed later in the signal generation\n",
    "\n",
    "event = Event(starting_positions, energy_depos);\n",
    "\n",
    "time_step = 5u\"ns\"\n",
    "drift_charges!(event, simulation, Δt = time_step)\n",
    "\n",
    "plot(simulation.detector, size = (700, 700))\n",
    "plot!(event.drift_paths)"
   ],
   "metadata": {},
   "execution_count": null
  },
  {
   "cell_type": "markdown",
   "source": [
    "## Weighting potential calculation"
   ],
   "metadata": {}
  },
  {
   "cell_type": "markdown",
   "source": [
    "We need weighting potentials to simulate the detector charge signal induced by drifting charges. We'll calculate the weighting potential for the point contact and the outer shell of the detector:"
   ],
   "metadata": {}
  },
  {
   "outputs": [],
   "cell_type": "code",
   "source": [
    "for contact in simulation.detector.contacts\n",
    "    calculate_weighting_potential!(simulation, contact.id, max_refinements = 3, n_points_in_φ = 2, verbose = false)\n",
    "end\n",
    "\n",
    "plot(\n",
    "    plot(simulation.weighting_potentials[1]),\n",
    "    plot(simulation.weighting_potentials[2]),\n",
    "    size = (900, 700)\n",
    ")"
   ],
   "metadata": {},
   "execution_count": null
  },
  {
   "cell_type": "markdown",
   "source": [
    "## Detector waveform generation"
   ],
   "metadata": {}
  },
  {
   "cell_type": "markdown",
   "source": [
    "### Single-event simulation"
   ],
   "metadata": {}
  },
  {
   "cell_type": "markdown",
   "source": [
    "Given an interaction at an arbitrary point in the detector, we can now simulate the charge drift and the resulting detector charge signals (e.g. at the point contact):"
   ],
   "metadata": {}
  },
  {
   "outputs": [],
   "cell_type": "code",
   "source": [
    "simulate!(event, simulation) # drift_charges + signal generation of all channels\n",
    "\n",
    "p_pc_signal = plot( event.waveforms[1], lw = 1.5, xlims = (0, 2000), xlabel = \"Time / ns\",\n",
    "                    legend = false, tickfontsize = 12, ylabel = \"Energy / eV\", guidefontsize = 14)"
   ],
   "metadata": {},
   "execution_count": null
  },
  {
   "cell_type": "markdown",
   "source": [
    "---\n",
    "\n",
    "*This notebook was generated using [Literate.jl](https://github.com/fredrikekre/Literate.jl).*"
   ],
   "metadata": {}
  }
 ],
 "nbformat_minor": 3,
 "metadata": {
  "language_info": {
   "file_extension": ".jl",
   "mimetype": "application/julia",
   "name": "julia",
   "version": "1.5.0"
  },
  "kernelspec": {
   "name": "julia-1.5",
   "display_name": "Julia 1.5.0",
   "language": "julia"
  }
 },
 "nbformat": 4
}
